{
 "cells": [
  {
   "cell_type": "markdown",
   "metadata": {},
   "source": [
    "# Data Collection - REE API"
   ]
  },
  {
   "cell_type": "markdown",
   "metadata": {},
   "source": [
    "The objective of this session is to understand how data can be retrieved from specific sources as REE API.\n",
    "\n",
    "To do so, we will use `requests` library and `json` libraries for Python. These libraries are considered as wrappers. \n",
    "\n",
    "Later on, we will use specific libraries for plotting as `matplotlib` and `datetime`. "
   ]
  },
  {
   "cell_type": "code",
   "execution_count": 6,
   "metadata": {},
   "outputs": [],
   "source": [
    "# import requests library\n",
    "import requests \n",
    "import json\n",
    "# import plotting library\n",
    "import matplotlib\n",
    "import matplotlib.pyplot as plt \n",
    "import datetime"
   ]
  },
  {
   "cell_type": "markdown",
   "metadata": {},
   "source": [
    "As we have seen before, when we work with APIs, we have to write the endpoint we want to access. \n",
    "We need to write also the folder/section we want to access. We can have the same endpoint and different sections from where to get information. \n",
    "\n",
    "Most of the times, we need to add some headers to our requests that are required to get the information. The most important one is the **Authorization**, which corresponds to our ID to access that API. "
   ]
  },
  {
   "cell_type": "code",
   "execution_count": 9,
   "metadata": {},
   "outputs": [],
   "source": [
    "endpoint = 'https://apidatos.ree.es'\n",
    "get_archives = '/es/datos/mercados/precios-mercados-tiempo-real'\n",
    "headers = {\"Accept\": \"application/json\",\n",
    "           \"Content-Type\": \"application/json\",\n",
    "        \"Host\": \"apidatos.ree.es\"}\n",
    "params = {\"start_date\": \"2024-05-14T00:00\",\n",
    "         \"end_date\": \"2024-05-14T23:00\",\n",
    "         \"time_trunc\": \"hour\"}"
   ]
  },
  {
   "cell_type": "markdown",
   "metadata": {},
   "source": [
    "Then, we can write the request according to the requests library and get callable object."
   ]
  },
  {
   "cell_type": "code",
   "execution_count": 16,
   "metadata": {},
   "outputs": [],
   "source": [
    "url_completo = endpoint + get_archives\n",
    "request = requests.get(url=url_completo, headers=headers, params=params)"
   ]
  },
  {
   "cell_type": "markdown",
   "metadata": {},
   "source": [
    "After that, we can check if the request is correct or not according to the response we get from the API. "
   ]
  },
  {
   "cell_type": "code",
   "execution_count": 17,
   "metadata": {
    "scrolled": false
   },
   "outputs": [
    {
     "data": {
      "text/plain": [
       "<Response [200]>"
      ]
     },
     "execution_count": 17,
     "metadata": {},
     "output_type": "execute_result"
    }
   ],
   "source": [
    "request"
   ]
  },
  {
   "cell_type": "markdown",
   "metadata": {},
   "source": [
    "In this case, the response we get is **200**, meaning that is has been accepted and the connection is established. \n",
    "There are different codes that tell us which is our connection status between us and the API. "
   ]
  },
  {
   "cell_type": "code",
   "execution_count": 18,
   "metadata": {},
   "outputs": [],
   "source": [
    "status = request.status_code"
   ]
  },
  {
   "cell_type": "code",
   "execution_count": 19,
   "metadata": {
    "scrolled": true
   },
   "outputs": [
    {
     "name": "stdout",
     "output_type": "stream",
     "text": [
      "Connection is established\n"
     ]
    }
   ],
   "source": [
    "#Check the status code\n",
    "if status < 200:\n",
    "    print('informational')\n",
    "    # If the status code is 200, treat the information.\n",
    "elif status >= 200 and status < 300:\n",
    "    print('Connection is established')\n",
    "    #okBehavior(response) # runs the function to get list of archives\n",
    "elif status >= 300 and status < 400:\n",
    "    print('redirection')\n",
    "elif status >= 400 and status < 500:\n",
    "    print('client error')\n",
    "else:\n",
    "    print('server error')"
   ]
  },
  {
   "cell_type": "markdown",
   "metadata": {},
   "source": [
    "The data can be accessed by means of a json file. By doing this, we can see all the IDs available for us to obtain data. "
   ]
  },
  {
   "cell_type": "code",
   "execution_count": 20,
   "metadata": {},
   "outputs": [],
   "source": [
    "# accessing data by means of a json object\n",
    "json = request.json()"
   ]
  },
  {
   "cell_type": "code",
   "execution_count": 15,
   "metadata": {
    "scrolled": true
   },
   "outputs": [
    {
     "data": {
      "text/plain": [
       "{'data': {'type': 'Precios mercado peninsular en tiempo real',\n",
       "  'id': 'mer13',\n",
       "  'attributes': {'title': 'Precios mercado peninsular en tiempo real',\n",
       "   'last-update': '2024-05-13T20:46:34.000+02:00',\n",
       "   'description': None},\n",
       "  'meta': {'cache-control': {'cache': 'MISS'}}},\n",
       " 'included': [{'type': 'PVPC (€/MWh)',\n",
       "   'id': '1001',\n",
       "   'groupId': None,\n",
       "   'attributes': {'title': 'PVPC (€/MWh)',\n",
       "    'description': None,\n",
       "    'color': '#ffcf09',\n",
       "    'type': None,\n",
       "    'magnitude': 'price',\n",
       "    'composite': False,\n",
       "    'last-update': '2024-05-13T20:46:34.000+02:00',\n",
       "    'values': [{'value': 60.17,\n",
       "      'percentage': 0.8442542444226183,\n",
       "      'datetime': '2024-05-14T00:00:00.000+02:00'},\n",
       "     {'value': 54.19,\n",
       "      'percentage': 0.9155262713296165,\n",
       "      'datetime': '2024-05-14T01:00:00.000+02:00'},\n",
       "     {'value': 54.75,\n",
       "      'percentage': 0.929383805805466,\n",
       "      'datetime': '2024-05-14T02:00:00.000+02:00'},\n",
       "     {'value': 53.77,\n",
       "      'percentage': 0.9641384256768872,\n",
       "      'datetime': '2024-05-14T03:00:00.000+02:00'},\n",
       "     {'value': 51.38,\n",
       "      'percentage': 0.9998054096127652,\n",
       "      'datetime': '2024-05-14T04:00:00.000+02:00'},\n",
       "     {'value': 51.43,\n",
       "      'percentage': 0.9905624036979969,\n",
       "      'datetime': '2024-05-14T05:00:00.000+02:00'},\n",
       "     {'value': 52.9,\n",
       "      'percentage': 0.9421193232413179,\n",
       "      'datetime': '2024-05-14T06:00:00.000+02:00'},\n",
       "     {'value': 67.98,\n",
       "      'percentage': 0.7555012224938875,\n",
       "      'datetime': '2024-05-14T07:00:00.000+02:00'},\n",
       "     {'value': 89.4,\n",
       "      'percentage': 0.8441926345609065,\n",
       "      'datetime': '2024-05-14T08:00:00.000+02:00'},\n",
       "     {'value': 79.89,\n",
       "      'percentage': 0.9124029237094563,\n",
       "      'datetime': '2024-05-14T09:00:00.000+02:00'},\n",
       "     {'value': 120.72,\n",
       "      'percentage': 1,\n",
       "      'datetime': '2024-05-14T10:00:00.000+02:00'},\n",
       "     {'value': 120.96,\n",
       "      'percentage': 1,\n",
       "      'datetime': '2024-05-14T11:00:00.000+02:00'},\n",
       "     {'value': 120.92,\n",
       "      'percentage': 1,\n",
       "      'datetime': '2024-05-14T12:00:00.000+02:00'},\n",
       "     {'value': 120.37,\n",
       "      'percentage': 1,\n",
       "      'datetime': '2024-05-14T13:00:00.000+02:00'},\n",
       "     {'value': 72.22,\n",
       "      'percentage': 0.9998615533711753,\n",
       "      'datetime': '2024-05-14T14:00:00.000+02:00'},\n",
       "     {'value': 72.39,\n",
       "      'percentage': 0.9991718426501035,\n",
       "      'datetime': '2024-05-14T15:00:00.000+02:00'},\n",
       "     {'value': 72.44,\n",
       "      'percentage': 0.9998619737750172,\n",
       "      'datetime': '2024-05-14T16:00:00.000+02:00'},\n",
       "     {'value': 72.24,\n",
       "      'percentage': 1,\n",
       "      'datetime': '2024-05-14T17:00:00.000+02:00'},\n",
       "     {'value': 121.59,\n",
       "      'percentage': 1,\n",
       "      'datetime': '2024-05-14T18:00:00.000+02:00'},\n",
       "     {'value': 126.06,\n",
       "      'percentage': 0.9748665996442657,\n",
       "      'datetime': '2024-05-14T19:00:00.000+02:00'},\n",
       "     {'value': 144.05,\n",
       "      'percentage': 0.8677188121197518,\n",
       "      'datetime': '2024-05-14T20:00:00.000+02:00'},\n",
       "     {'value': 154.6,\n",
       "      'percentage': 0.8154008438818565,\n",
       "      'datetime': '2024-05-14T21:00:00.000+02:00'},\n",
       "     {'value': 106.36,\n",
       "      'percentage': 0.752405206564799,\n",
       "      'datetime': '2024-05-14T22:00:00.000+02:00'},\n",
       "     {'value': 100.02,\n",
       "      'percentage': 0.7808572097743773,\n",
       "      'datetime': '2024-05-14T23:00:00.000+02:00'}]}},\n",
       "  {'type': 'Precio mercado spot (€/MWh)',\n",
       "   'id': '600',\n",
       "   'groupId': None,\n",
       "   'attributes': {'title': 'Precio mercado spot (€/MWh)',\n",
       "    'description': None,\n",
       "    'color': '#df4a32',\n",
       "    'type': None,\n",
       "    'magnitude': 'price',\n",
       "    'composite': False,\n",
       "    'last-update': '2024-05-13T14:36:15.000+02:00',\n",
       "    'values': [{'value': 11.1,\n",
       "      'percentage': 0.1557457555773818,\n",
       "      'datetime': '2024-05-14T00:00:00.000+02:00'},\n",
       "     {'value': 5,\n",
       "      'percentage': 0.08447372867038351,\n",
       "      'datetime': '2024-05-14T01:00:00.000+02:00'},\n",
       "     {'value': 4.16,\n",
       "      'percentage': 0.07061619419453403,\n",
       "      'datetime': '2024-05-14T02:00:00.000+02:00'},\n",
       "     {'value': 2,\n",
       "      'percentage': 0.03586157432311278,\n",
       "      'datetime': '2024-05-14T03:00:00.000+02:00'},\n",
       "     {'value': 0.01,\n",
       "      'percentage': 0.0001945903872348706,\n",
       "      'datetime': '2024-05-14T04:00:00.000+02:00'},\n",
       "     {'value': 0.49,\n",
       "      'percentage': 0.009437596302003082,\n",
       "      'datetime': '2024-05-14T05:00:00.000+02:00'},\n",
       "     {'value': 3.25,\n",
       "      'percentage': 0.0578806767586821,\n",
       "      'datetime': '2024-05-14T06:00:00.000+02:00'},\n",
       "     {'value': 22,\n",
       "      'percentage': 0.24449877750611246,\n",
       "      'datetime': '2024-05-14T07:00:00.000+02:00'},\n",
       "     {'value': 16.5,\n",
       "      'percentage': 0.1558073654390935,\n",
       "      'datetime': '2024-05-14T08:00:00.000+02:00'},\n",
       "     {'value': 7.67,\n",
       "      'percentage': 0.08759707629054363,\n",
       "      'datetime': '2024-05-14T09:00:00.000+02:00'},\n",
       "     {'value': 0,\n",
       "      'percentage': 0,\n",
       "      'datetime': '2024-05-14T10:00:00.000+02:00'},\n",
       "     {'value': 0,\n",
       "      'percentage': 0,\n",
       "      'datetime': '2024-05-14T11:00:00.000+02:00'},\n",
       "     {'value': 0,\n",
       "      'percentage': 0,\n",
       "      'datetime': '2024-05-14T12:00:00.000+02:00'},\n",
       "     {'value': 0,\n",
       "      'percentage': 0,\n",
       "      'datetime': '2024-05-14T13:00:00.000+02:00'},\n",
       "     {'value': -0.01,\n",
       "      'percentage': 0.00013844662882458813,\n",
       "      'datetime': '2024-05-14T14:00:00.000+02:00'},\n",
       "     {'value': -0.06,\n",
       "      'percentage': 0.0008281573498964802,\n",
       "      'datetime': '2024-05-14T15:00:00.000+02:00'},\n",
       "     {'value': -0.01,\n",
       "      'percentage': 0.00013802622498274673,\n",
       "      'datetime': '2024-05-14T16:00:00.000+02:00'},\n",
       "     {'value': 0,\n",
       "      'percentage': 0,\n",
       "      'datetime': '2024-05-14T17:00:00.000+02:00'},\n",
       "     {'value': 0,\n",
       "      'percentage': 0,\n",
       "      'datetime': '2024-05-14T18:00:00.000+02:00'},\n",
       "     {'value': 3.25,\n",
       "      'percentage': 0.025133400355734282,\n",
       "      'datetime': '2024-05-14T19:00:00.000+02:00'},\n",
       "     {'value': 21.96,\n",
       "      'percentage': 0.13228118788024817,\n",
       "      'datetime': '2024-05-14T20:00:00.000+02:00'},\n",
       "     {'value': 35,\n",
       "      'percentage': 0.18459915611814345,\n",
       "      'datetime': '2024-05-14T21:00:00.000+02:00'},\n",
       "     {'value': 35,\n",
       "      'percentage': 0.24759479343520088,\n",
       "      'datetime': '2024-05-14T22:00:00.000+02:00'},\n",
       "     {'value': 28.07,\n",
       "      'percentage': 0.2191427902256226,\n",
       "      'datetime': '2024-05-14T23:00:00.000+02:00'}]}}]}"
      ]
     },
     "execution_count": 15,
     "metadata": {},
     "output_type": "execute_result"
    }
   ],
   "source": [
    "json"
   ]
  },
  {
   "cell_type": "code",
   "execution_count": 21,
   "metadata": {
    "scrolled": false
   },
   "outputs": [
    {
     "name": "stdout",
     "output_type": "stream",
     "text": [
      "data\n",
      "included\n"
     ]
    }
   ],
   "source": [
    "for el in json:\n",
    "    print(el)"
   ]
  },
  {
   "cell_type": "code",
   "execution_count": 23,
   "metadata": {},
   "outputs": [
    {
     "name": "stdout",
     "output_type": "stream",
     "text": [
      "type\n",
      "id\n",
      "attributes\n",
      "meta\n"
     ]
    }
   ],
   "source": [
    "for el in json[\"data\"]:\n",
    "    print(el)\n"
   ]
  },
  {
   "cell_type": "code",
   "execution_count": 42,
   "metadata": {},
   "outputs": [
    {
     "data": {
      "text/plain": [
       "[{'value': 60.17,\n",
       "  'percentage': 0.8442542444226183,\n",
       "  'datetime': '2024-05-14T00:00:00.000+02:00'}]"
      ]
     },
     "execution_count": 42,
     "metadata": {},
     "output_type": "execute_result"
    }
   ],
   "source": [
    "PVPC = json[\"included\"][0]\n",
    "values = PVPC[\"attributes\"][\"values\"]\n",
    "values[:1]\n"
   ]
  },
  {
   "cell_type": "code",
   "execution_count": 46,
   "metadata": {},
   "outputs": [],
   "source": [
    "prices = []\n",
    "percentage = []\n",
    "hours = []\n",
    "for date in values:\n",
    "    prices.append(date[\"value\"])\n",
    "    percentage.append(date[\"percentage\"])\n",
    "    hours.append(date[\"datetime\"])\n"
   ]
  },
  {
   "cell_type": "code",
   "execution_count": 47,
   "metadata": {},
   "outputs": [
    {
     "data": {
      "text/plain": [
       "[60.17, 54.19, 54.75]"
      ]
     },
     "execution_count": 47,
     "metadata": {},
     "output_type": "execute_result"
    }
   ],
   "source": [
    "prices[:3]"
   ]
  },
  {
   "cell_type": "code",
   "execution_count": 48,
   "metadata": {},
   "outputs": [
    {
     "data": {
      "text/plain": [
       "['2024-05-14T00:00:00.000+02:00',\n",
       " '2024-05-14T01:00:00.000+02:00',\n",
       " '2024-05-14T02:00:00.000+02:00']"
      ]
     },
     "execution_count": 48,
     "metadata": {},
     "output_type": "execute_result"
    }
   ],
   "source": [
    "hours[:3]"
   ]
  },
  {
   "cell_type": "code",
   "execution_count": 63,
   "metadata": {},
   "outputs": [
    {
     "data": {
      "image/png": "[encoded data removed]",
      "text/plain": [
       "<Figure size 720x432 with 2 Axes>"
      ]
     },
     "metadata": {},
     "output_type": "display_data"
    }
   ],
   "source": [
    "import matplotlib.pyplot as plt\n",
    "plt.style.use(\"ggplot\")\n",
    "matplotlib.rc(\"xtick\", labelsize=15)\n",
    "matplotlib.rc(\"ytick\", labelsize=15)\n",
    "\n",
    "\n",
    "fig, ax = plt.subplots(2, 1, figsize=(10,6))\n",
    "ax[0].plot(prices)\n",
    "ax[0].set_title(\"PVPC price\")\n",
    "ax[0].set_ylabel(\"Price (€/MWh)\")\n",
    "\n",
    "ax[1].plot(percentage,\"blue\")\n",
    "ax[1].set_title(\"RES percentage\")\n",
    "ax[1].set_xlabel(\"Hours\")\n",
    "ax[1].set_ylabel(\"Percentage (%)\")\n",
    "plt.tight_layout()"
   ]
  },
  {
   "cell_type": "markdown",
   "metadata": {},
   "source": [
    "### Final PVPC price"
   ]
  },
  {
   "cell_type": "code",
   "execution_count": null,
   "metadata": {
    "scrolled": false
   },
   "outputs": [],
   "source": []
  },
  {
   "cell_type": "markdown",
   "metadata": {},
   "source": [
    "### Day-Ahead Market Clearing Price "
   ]
  },
  {
   "cell_type": "code",
   "execution_count": null,
   "metadata": {},
   "outputs": [],
   "source": []
  },
  {
   "cell_type": "code",
   "execution_count": null,
   "metadata": {},
   "outputs": [],
   "source": []
  },
  {
   "cell_type": "code",
   "execution_count": null,
   "metadata": {
    "scrolled": false
   },
   "outputs": [],
   "source": []
  },
  {
   "cell_type": "markdown",
   "metadata": {},
   "source": [
    "### Percentage of Renewable Energy"
   ]
  },
  {
   "cell_type": "code",
   "execution_count": null,
   "metadata": {},
   "outputs": [],
   "source": []
  },
  {
   "cell_type": "code",
   "execution_count": null,
   "metadata": {},
   "outputs": [],
   "source": []
  },
  {
   "cell_type": "code",
   "execution_count": null,
   "metadata": {},
   "outputs": [],
   "source": []
  }
 ],
 "metadata": {
  "kernelspec": {
   "display_name": "Python 3",
   "language": "python",
   "name": "python3"
  },
  "language_info": {
   "codemirror_mode": {
    "name": "ipython",
    "version": 3
   },
   "file_extension": ".py",
   "mimetype": "text/x-python",
   "name": "python",
   "nbconvert_exporter": "python",
   "pygments_lexer": "ipython3",
   "version": "3.8.8"
  }
 },
 "nbformat": 4,
 "nbformat_minor": 2
}
