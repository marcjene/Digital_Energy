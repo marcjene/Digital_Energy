{
 "cells": [
  {
   "cell_type": "markdown",
   "metadata": {},
   "source": [
    "# BICING API"
   ]
  },
  {
   "cell_type": "code",
   "execution_count": null,
   "metadata": {},
   "outputs": [],
   "source": [
    "# import request library (by Python developers)\n",
    "import requests "
   ]
  },
  {
   "cell_type": "code",
   "execution_count": null,
   "metadata": {},
   "outputs": [],
   "source": [
    "# Request using GET method\n",
    "URL = 'http://wservice.viabicing.cat'\n",
    "GET = '/v2/stations'\n",
    "response = requests.get(url = URL+GET)"
   ]
  },
  {
   "cell_type": "code",
   "execution_count": null,
   "metadata": {},
   "outputs": [],
   "source": [
    "# Read the status code\n",
    "status = response.status_code"
   ]
  },
  {
   "cell_type": "code",
   "execution_count": null,
   "metadata": {},
   "outputs": [],
   "source": [
    "  # Check the status code\n",
    "if status < 200:\n",
    "    print('informational')\n",
    "# If the status code is 200, treat the information.\n",
    "elif status >= 200 and status < 300:\n",
    "    print('ok')\n",
    "    data = response.json()\n",
    "elif status >= 300 and status < 400:\n",
    "    print('redirection')\n",
    "elif status >= 400 and status < 500:\n",
    "    print('client error')\n",
    "else:\n",
    "    print('server error')\n",
    "        "
   ]
  },
  {
   "cell_type": "code",
   "execution_count": null,
   "metadata": {},
   "outputs": [],
   "source": [
    "data"
   ]
  },
  {
   "cell_type": "code",
   "execution_count": null,
   "metadata": {},
   "outputs": [],
   "source": [
    "# Extract from the json the data of the stations\n",
    "\n",
    "# Check the elements in the json\n",
    "for element in data:\n",
    "    # If there is an element called 'stations', return the element. \n",
    "    # Otherwise, return amb empty array\n",
    "    if element == 'stations':\n",
    "        all_stations = data[element]\n",
    "        print(all_stations)"
   ]
  },
  {
   "cell_type": "code",
   "execution_count": null,
   "metadata": {},
   "outputs": [],
   "source": [
    "# For each station of the list of all the stations, read the Stret name, number, state and number of bikes\n",
    "for station in all_stations:\n",
    "    print(\"station of \"+station['streetName']+\" \"+station['streetNumber']\n",
    "    + \" is \"+station['status']+\" and has \"+station['bikes']+\" bikes\")"
   ]
  },
  {
   "cell_type": "code",
   "execution_count": null,
   "metadata": {},
   "outputs": [],
   "source": [
    "# Use a method to sum all the total available bikes in all the stations\n",
    "total_bikes = 0\n",
    "# For each station, read the element 'bikes' and add it to the total\n",
    "for station in all_stations:\n",
    "    total_bikes += int(station['bikes'])\n",
    "# Return as string the 'sum' variable\n",
    "print (\"the total of bikes is \"+str(total_bikes))"
   ]
  },
  {
   "cell_type": "code",
   "execution_count": null,
   "metadata": {},
   "outputs": [],
   "source": []
  }
 ],
 "metadata": {
  "kernelspec": {
   "display_name": "Python 3",
   "language": "python",
   "name": "python3"
  },
  "language_info": {
   "codemirror_mode": {
    "name": "ipython",
    "version": 3
   },
   "file_extension": ".py",
   "mimetype": "text/x-python",
   "name": "python",
   "nbconvert_exporter": "python",
   "pygments_lexer": "ipython3",
   "version": "3.7.4"
  }
 },
 "nbformat": 4,
 "nbformat_minor": 2
}
