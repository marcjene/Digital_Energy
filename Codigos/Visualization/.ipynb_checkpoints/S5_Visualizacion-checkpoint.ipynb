{
 "cells": [
  {
   "cell_type": "markdown",
   "metadata": {},
   "source": [
    "# Visualización de datos con Python\n",
    "\n",
    "# Parte 1: Introducción, matplotlib y plotly\n",
    "\n",
    "## 0. Introducción\n",
    "Hasta ahora, hemos trabajado con Arduino, APIs y Python, con un objetivo común: obtener datos para un fin concreto. Utilizando datos, podemos observar cómo es el comportamiento de las cargas que estamos controlando y podemos programar su funcionamiento en función de algunas señales concretas, como la intensidad de la luz, los precios del mercado, la hora, etc. \n",
    "\n",
    "Una forma útil de ver que la carga se está comportando de la forma que deseamos es utilizando herramientas de visualización de datos. La visualización de datos se ha convertido en una actividad clave en las empresas para extraer conclusiones y definir los próximos pasos de la empresa.\n",
    "\n",
    "En esta sesión, utilizaremos un conjunto de datos de aerogeneradores, utilizando datos compartidos por DTU en los siguientes DOIs: 10.11583/DTU.7856891 y 10.11583/DTU.7856888. Dispondremos de observaciones históricas del aerogenerador V52. Trabajaremos con observaciones históricas, utilizando un fichero csv. \n",
    "\n",
    "![Aerogenerador V52](./images/v52turbine_3.jpg)\n",
    "\n",
    "Utilizaremos diferentes librerías de Python para visualizar estos datos. En concreto, las librerías utilizadas en esta sesión de laboratorio serán matplotlib, plotly y Dash. \n",
    "\n",
    "## 1. 1. Configuración\n",
    "### 1.1. Importación de librerías"
   ]
  },
  {
   "cell_type": "code",
   "execution_count": 1,
   "metadata": {},
   "outputs": [],
   "source": [
    "import pandas as pd \n",
    "import numpy as np\n",
    "import datetime\n",
    "import matplotlib.pyplot as plt "
   ]
  },
  {
   "cell_type": "markdown",
   "metadata": {},
   "source": [
    "### 1.2. Cargar los datos"
   ]
  },
  {
   "cell_type": "code",
   "execution_count": 2,
   "metadata": {},
   "outputs": [],
   "source": [
    "df = pd.read_csv('./data/V52_ExtensiveData.csv', sep='\\t', skiprows=12)"
   ]
  },
  {
   "cell_type": "markdown",
   "metadata": {},
   "source": [
    "*Nota importante*: antes de importar un archivo a la memoria de su entorno informático, compruebe el tipo de archivo que está importando. La mayoría de las veces las extensiones de los ficheros no son muy descriptivas. Por ejemplo, en este caso estamos importando un fichero .csv. Observe que el proceso de importación sólo es efectivo cuando se especifica el parámetro *separator*, de lo contrario el pandas dataframe no entendería correctamente la estructura de los datos (pruebe usted mismo a eliminar el separador para ver qué ocurre).\n",
    "Esto se debe a que el fichero original que contiene los datos no es un fichero *comma separated value* (.csv), sino en realidad un fichero *tab separated value* (.tsv). Puede comprobarlo fácilmente abriendo el archivo con un editor de texto. Esta es siempre una buena práctica antes de iniciar el análisis de un conjunto de datos.\n",
    "Haciendo esto, puede incluso darse cuenta de que las 12 primeras filas son de hecho inútiles y pueden ignorarse en el proceso de importación."
   ]
  },
  {
   "cell_type": "markdown",
   "metadata": {},
   "source": [
    "## 2. Preprocesamiento de datos\n",
    "### 2.1. Primer vistazo al conjunto de datos"
   ]
  },
  {
   "cell_type": "markdown",
   "metadata": {},
   "source": [
    "Eche un vistazo rápido al conjunto de datos y comprenda cosas básicas como las **características** contenidas en el conjunto de datos (representadas por las columnas) y el número de **observaciones** (número de elementos) en el conjunto de datos.\n",
    "\n",
    "Estos comandos son bastante útiles para un primer vistazo rápido:"
   ]
  },
  {
   "cell_type": "code",
   "execution_count": 3,
   "metadata": {},
   "outputs": [
    {
     "data": {
      "text/html": [
       "<div>\n",
       "<style scoped>\n",
       "    .dataframe tbody tr th:only-of-type {\n",
       "        vertical-align: middle;\n",
       "    }\n",
       "\n",
       "    .dataframe tbody tr th {\n",
       "        vertical-align: top;\n",
       "    }\n",
       "\n",
       "    .dataframe thead th {\n",
       "        text-align: right;\n",
       "    }\n",
       "</style>\n",
       "<table border=\"1\" class=\"dataframe\">\n",
       "  <thead>\n",
       "    <tr style=\"text-align: right;\">\n",
       "      <th></th>\n",
       "      <th>Date</th>\n",
       "      <th>Wsp_44m</th>\n",
       "      <th>Wdir_41m</th>\n",
       "      <th>ActPow</th>\n",
       "      <th>RePow</th>\n",
       "      <th>ActPow_std</th>\n",
       "      <th>Wsp_44m_std</th>\n",
       "      <th>Wdir_41m_std</th>\n",
       "      <th>stability</th>\n",
       "    </tr>\n",
       "  </thead>\n",
       "  <tbody>\n",
       "    <tr>\n",
       "      <th>0</th>\n",
       "      <td>201801010000</td>\n",
       "      <td>4.71803</td>\n",
       "      <td>200.743</td>\n",
       "      <td>64.6673</td>\n",
       "      <td>0.000860</td>\n",
       "      <td>33.4251</td>\n",
       "      <td>0.566131</td>\n",
       "      <td>6.45730</td>\n",
       "      <td>1.0</td>\n",
       "    </tr>\n",
       "    <tr>\n",
       "      <th>1</th>\n",
       "      <td>201801010010</td>\n",
       "      <td>5.44100</td>\n",
       "      <td>201.768</td>\n",
       "      <td>70.8152</td>\n",
       "      <td>-0.000657</td>\n",
       "      <td>26.3829</td>\n",
       "      <td>0.765691</td>\n",
       "      <td>6.66940</td>\n",
       "      <td>1.0</td>\n",
       "    </tr>\n",
       "    <tr>\n",
       "      <th>2</th>\n",
       "      <td>201801010020</td>\n",
       "      <td>5.32178</td>\n",
       "      <td>197.962</td>\n",
       "      <td>80.8037</td>\n",
       "      <td>-0.000617</td>\n",
       "      <td>30.2002</td>\n",
       "      <td>0.603442</td>\n",
       "      <td>6.99113</td>\n",
       "      <td>1.0</td>\n",
       "    </tr>\n",
       "    <tr>\n",
       "      <th>3</th>\n",
       "      <td>201801010030</td>\n",
       "      <td>5.95325</td>\n",
       "      <td>204.606</td>\n",
       "      <td>86.1123</td>\n",
       "      <td>-0.002370</td>\n",
       "      <td>43.1192</td>\n",
       "      <td>0.872915</td>\n",
       "      <td>5.47062</td>\n",
       "      <td>1.0</td>\n",
       "    </tr>\n",
       "    <tr>\n",
       "      <th>4</th>\n",
       "      <td>201801010040</td>\n",
       "      <td>6.17765</td>\n",
       "      <td>204.398</td>\n",
       "      <td>110.8570</td>\n",
       "      <td>0.001033</td>\n",
       "      <td>29.9507</td>\n",
       "      <td>0.550160</td>\n",
       "      <td>4.93713</td>\n",
       "      <td>1.0</td>\n",
       "    </tr>\n",
       "  </tbody>\n",
       "</table>\n",
       "</div>"
      ],
      "text/plain": [
       "           Date  Wsp_44m  Wdir_41m    ActPow     RePow  ActPow_std  \\\n",
       "0  201801010000  4.71803   200.743   64.6673  0.000860     33.4251   \n",
       "1  201801010010  5.44100   201.768   70.8152 -0.000657     26.3829   \n",
       "2  201801010020  5.32178   197.962   80.8037 -0.000617     30.2002   \n",
       "3  201801010030  5.95325   204.606   86.1123 -0.002370     43.1192   \n",
       "4  201801010040  6.17765   204.398  110.8570  0.001033     29.9507   \n",
       "\n",
       "   Wsp_44m_std  Wdir_41m_std  stability  \n",
       "0     0.566131       6.45730        1.0  \n",
       "1     0.765691       6.66940        1.0  \n",
       "2     0.603442       6.99113        1.0  \n",
       "3     0.872915       5.47062        1.0  \n",
       "4     0.550160       4.93713        1.0  "
      ]
     },
     "execution_count": 3,
     "metadata": {},
     "output_type": "execute_result"
    }
   ],
   "source": [
    "df.head()"
   ]
  },
  {
   "cell_type": "code",
   "execution_count": 4,
   "metadata": {},
   "outputs": [
    {
     "data": {
      "text/plain": [
       "(52241, 9)"
      ]
     },
     "execution_count": 4,
     "metadata": {},
     "output_type": "execute_result"
    }
   ],
   "source": [
    "df.shape"
   ]
  },
  {
   "cell_type": "code",
   "execution_count": 5,
   "metadata": {},
   "outputs": [
    {
     "data": {
      "text/plain": [
       "Date              int64\n",
       "Wsp_44m         float64\n",
       "Wdir_41m        float64\n",
       "ActPow          float64\n",
       "RePow           float64\n",
       "ActPow_std      float64\n",
       "Wsp_44m_std     float64\n",
       "Wdir_41m_std    float64\n",
       "stability       float64\n",
       "dtype: object"
      ]
     },
     "execution_count": 5,
     "metadata": {},
     "output_type": "execute_result"
    }
   ],
   "source": [
    "df.dtypes"
   ]
  },
  {
   "cell_type": "markdown",
   "metadata": {},
   "source": [
    "Preguntas: \n",
    "\n",
    "1. ¿Cuántas filas tenemos? ¿Y columnas?\n",
    "2. ¿Qué tipos de variables tenemos?\n",
    "3. ¿Están todas las columnas en el formato correcto? ¿Tenemos que cambiar alguno de los tipos de datos? \n",
    "4. ¿Nos es útil el nombre de las columnas? ¿Cuál es la información que tratan de decirnos? \n",
    "5. ¿Conoces las unidades de medida?\n",
    "6. ¿Durante cuánto tiempo hemos estado tomando datos?\n",
    "7. ¿Cuál es la granularidad temporal?\n",
    "8. ¿Qué nos dicen estos datos? (narración...)"
   ]
  },
  {
   "cell_type": "markdown",
   "metadata": {},
   "source": [
    "### 2.2. Cambiar el tipo de columnas"
   ]
  },
  {
   "cell_type": "code",
   "execution_count": 6,
   "metadata": {},
   "outputs": [],
   "source": [
    "df['Date'] = pd.to_datetime(df['Date'], format='%Y%m%d%H%M')"
   ]
  },
  {
   "cell_type": "code",
   "execution_count": 7,
   "metadata": {},
   "outputs": [
    {
     "data": {
      "text/html": [
       "<div>\n",
       "<style scoped>\n",
       "    .dataframe tbody tr th:only-of-type {\n",
       "        vertical-align: middle;\n",
       "    }\n",
       "\n",
       "    .dataframe tbody tr th {\n",
       "        vertical-align: top;\n",
       "    }\n",
       "\n",
       "    .dataframe thead th {\n",
       "        text-align: right;\n",
       "    }\n",
       "</style>\n",
       "<table border=\"1\" class=\"dataframe\">\n",
       "  <thead>\n",
       "    <tr style=\"text-align: right;\">\n",
       "      <th></th>\n",
       "      <th>Date</th>\n",
       "      <th>Wsp_44m</th>\n",
       "      <th>Wdir_41m</th>\n",
       "      <th>ActPow</th>\n",
       "      <th>RePow</th>\n",
       "      <th>ActPow_std</th>\n",
       "      <th>Wsp_44m_std</th>\n",
       "      <th>Wdir_41m_std</th>\n",
       "      <th>stability</th>\n",
       "    </tr>\n",
       "  </thead>\n",
       "  <tbody>\n",
       "    <tr>\n",
       "      <th>0</th>\n",
       "      <td>2018-01-01 00:00:00</td>\n",
       "      <td>4.71803</td>\n",
       "      <td>200.743</td>\n",
       "      <td>64.6673</td>\n",
       "      <td>0.000860</td>\n",
       "      <td>33.4251</td>\n",
       "      <td>0.566131</td>\n",
       "      <td>6.45730</td>\n",
       "      <td>1.0</td>\n",
       "    </tr>\n",
       "    <tr>\n",
       "      <th>1</th>\n",
       "      <td>2018-01-01 00:10:00</td>\n",
       "      <td>5.44100</td>\n",
       "      <td>201.768</td>\n",
       "      <td>70.8152</td>\n",
       "      <td>-0.000657</td>\n",
       "      <td>26.3829</td>\n",
       "      <td>0.765691</td>\n",
       "      <td>6.66940</td>\n",
       "      <td>1.0</td>\n",
       "    </tr>\n",
       "    <tr>\n",
       "      <th>2</th>\n",
       "      <td>2018-01-01 00:20:00</td>\n",
       "      <td>5.32178</td>\n",
       "      <td>197.962</td>\n",
       "      <td>80.8037</td>\n",
       "      <td>-0.000617</td>\n",
       "      <td>30.2002</td>\n",
       "      <td>0.603442</td>\n",
       "      <td>6.99113</td>\n",
       "      <td>1.0</td>\n",
       "    </tr>\n",
       "    <tr>\n",
       "      <th>3</th>\n",
       "      <td>2018-01-01 00:30:00</td>\n",
       "      <td>5.95325</td>\n",
       "      <td>204.606</td>\n",
       "      <td>86.1123</td>\n",
       "      <td>-0.002370</td>\n",
       "      <td>43.1192</td>\n",
       "      <td>0.872915</td>\n",
       "      <td>5.47062</td>\n",
       "      <td>1.0</td>\n",
       "    </tr>\n",
       "    <tr>\n",
       "      <th>4</th>\n",
       "      <td>2018-01-01 00:40:00</td>\n",
       "      <td>6.17765</td>\n",
       "      <td>204.398</td>\n",
       "      <td>110.8570</td>\n",
       "      <td>0.001033</td>\n",
       "      <td>29.9507</td>\n",
       "      <td>0.550160</td>\n",
       "      <td>4.93713</td>\n",
       "      <td>1.0</td>\n",
       "    </tr>\n",
       "  </tbody>\n",
       "</table>\n",
       "</div>"
      ],
      "text/plain": [
       "                 Date  Wsp_44m  Wdir_41m    ActPow     RePow  ActPow_std  \\\n",
       "0 2018-01-01 00:00:00  4.71803   200.743   64.6673  0.000860     33.4251   \n",
       "1 2018-01-01 00:10:00  5.44100   201.768   70.8152 -0.000657     26.3829   \n",
       "2 2018-01-01 00:20:00  5.32178   197.962   80.8037 -0.000617     30.2002   \n",
       "3 2018-01-01 00:30:00  5.95325   204.606   86.1123 -0.002370     43.1192   \n",
       "4 2018-01-01 00:40:00  6.17765   204.398  110.8570  0.001033     29.9507   \n",
       "\n",
       "   Wsp_44m_std  Wdir_41m_std  stability  \n",
       "0     0.566131       6.45730        1.0  \n",
       "1     0.765691       6.66940        1.0  \n",
       "2     0.603442       6.99113        1.0  \n",
       "3     0.872915       5.47062        1.0  \n",
       "4     0.550160       4.93713        1.0  "
      ]
     },
     "execution_count": 7,
     "metadata": {},
     "output_type": "execute_result"
    }
   ],
   "source": [
    "df.head()"
   ]
  },
  {
   "cell_type": "markdown",
   "metadata": {},
   "source": [
    "Este es un paso típico a realizar cuando se trabaja con datos de series temporales. Conversión del formato numérico *float64* al formato de tipo fecha pyhton *datetime*."
   ]
  },
  {
   "cell_type": "markdown",
   "metadata": {},
   "source": [
    "### 2.3. Comprobar si faltan datos (NaN)"
   ]
  },
  {
   "cell_type": "code",
   "execution_count": 8,
   "metadata": {},
   "outputs": [
    {
     "data": {
      "text/plain": [
       "Date               0\n",
       "Wsp_44m         3253\n",
       "Wdir_41m        3253\n",
       "ActPow           138\n",
       "RePow            138\n",
       "ActPow_std       138\n",
       "Wsp_44m_std     3253\n",
       "Wdir_41m_std    3253\n",
       "stability          0\n",
       "dtype: int64"
      ]
     },
     "execution_count": 8,
     "metadata": {},
     "output_type": "execute_result"
    }
   ],
   "source": [
    "# para cada columna\n",
    "df.isna().sum()"
   ]
  },
  {
   "cell_type": "code",
   "execution_count": 9,
   "metadata": {},
   "outputs": [
    {
     "data": {
      "text/plain": [
       "13426"
      ]
     },
     "execution_count": 9,
     "metadata": {},
     "output_type": "execute_result"
    }
   ],
   "source": [
    "# total\n",
    "df.isna().sum().sum()"
   ]
  },
  {
   "cell_type": "markdown",
   "metadata": {},
   "source": [
    "Intentemos visualizar las filas en las que hay valores NaN."
   ]
  },
  {
   "cell_type": "code",
   "execution_count": 10,
   "metadata": {},
   "outputs": [
    {
     "data": {
      "text/html": [
       "<div>\n",
       "<style scoped>\n",
       "    .dataframe tbody tr th:only-of-type {\n",
       "        vertical-align: middle;\n",
       "    }\n",
       "\n",
       "    .dataframe tbody tr th {\n",
       "        vertical-align: top;\n",
       "    }\n",
       "\n",
       "    .dataframe thead th {\n",
       "        text-align: right;\n",
       "    }\n",
       "</style>\n",
       "<table border=\"1\" class=\"dataframe\">\n",
       "  <thead>\n",
       "    <tr style=\"text-align: right;\">\n",
       "      <th></th>\n",
       "      <th>Date</th>\n",
       "      <th>Wsp_44m</th>\n",
       "      <th>Wdir_41m</th>\n",
       "      <th>ActPow</th>\n",
       "      <th>RePow</th>\n",
       "      <th>ActPow_std</th>\n",
       "      <th>Wsp_44m_std</th>\n",
       "      <th>Wdir_41m_std</th>\n",
       "      <th>stability</th>\n",
       "    </tr>\n",
       "  </thead>\n",
       "  <tbody>\n",
       "    <tr>\n",
       "      <th>19015</th>\n",
       "      <td>2018-05-14 09:20:00</td>\n",
       "      <td>NaN</td>\n",
       "      <td>NaN</td>\n",
       "      <td>-1.096810</td>\n",
       "      <td>-1.285870</td>\n",
       "      <td>1.004990</td>\n",
       "      <td>NaN</td>\n",
       "      <td>NaN</td>\n",
       "      <td>0.0</td>\n",
       "    </tr>\n",
       "    <tr>\n",
       "      <th>19016</th>\n",
       "      <td>2018-05-14 09:30:00</td>\n",
       "      <td>NaN</td>\n",
       "      <td>NaN</td>\n",
       "      <td>-1.030800</td>\n",
       "      <td>-0.895310</td>\n",
       "      <td>0.982677</td>\n",
       "      <td>NaN</td>\n",
       "      <td>NaN</td>\n",
       "      <td>0.0</td>\n",
       "    </tr>\n",
       "    <tr>\n",
       "      <th>19017</th>\n",
       "      <td>2018-05-14 09:40:00</td>\n",
       "      <td>NaN</td>\n",
       "      <td>NaN</td>\n",
       "      <td>-0.903863</td>\n",
       "      <td>-0.680247</td>\n",
       "      <td>0.716444</td>\n",
       "      <td>NaN</td>\n",
       "      <td>NaN</td>\n",
       "      <td>0.0</td>\n",
       "    </tr>\n",
       "    <tr>\n",
       "      <th>19018</th>\n",
       "      <td>2018-05-14 09:50:00</td>\n",
       "      <td>NaN</td>\n",
       "      <td>NaN</td>\n",
       "      <td>-0.823533</td>\n",
       "      <td>-0.763457</td>\n",
       "      <td>0.782019</td>\n",
       "      <td>NaN</td>\n",
       "      <td>NaN</td>\n",
       "      <td>0.0</td>\n",
       "    </tr>\n",
       "    <tr>\n",
       "      <th>19019</th>\n",
       "      <td>2018-05-14 10:00:00</td>\n",
       "      <td>NaN</td>\n",
       "      <td>NaN</td>\n",
       "      <td>-0.975510</td>\n",
       "      <td>-0.802763</td>\n",
       "      <td>0.841965</td>\n",
       "      <td>NaN</td>\n",
       "      <td>NaN</td>\n",
       "      <td>0.0</td>\n",
       "    </tr>\n",
       "    <tr>\n",
       "      <th>...</th>\n",
       "      <td>...</td>\n",
       "      <td>...</td>\n",
       "      <td>...</td>\n",
       "      <td>...</td>\n",
       "      <td>...</td>\n",
       "      <td>...</td>\n",
       "      <td>...</td>\n",
       "      <td>...</td>\n",
       "      <td>...</td>\n",
       "    </tr>\n",
       "    <tr>\n",
       "      <th>27102</th>\n",
       "      <td>2018-07-09 13:00:00</td>\n",
       "      <td>NaN</td>\n",
       "      <td>NaN</td>\n",
       "      <td>201.837000</td>\n",
       "      <td>-0.001510</td>\n",
       "      <td>67.718100</td>\n",
       "      <td>NaN</td>\n",
       "      <td>NaN</td>\n",
       "      <td>0.0</td>\n",
       "    </tr>\n",
       "    <tr>\n",
       "      <th>27103</th>\n",
       "      <td>2018-07-09 13:20:00</td>\n",
       "      <td>NaN</td>\n",
       "      <td>NaN</td>\n",
       "      <td>220.969000</td>\n",
       "      <td>-0.006363</td>\n",
       "      <td>51.026400</td>\n",
       "      <td>NaN</td>\n",
       "      <td>NaN</td>\n",
       "      <td>0.0</td>\n",
       "    </tr>\n",
       "    <tr>\n",
       "      <th>27104</th>\n",
       "      <td>2018-07-09 13:30:00</td>\n",
       "      <td>NaN</td>\n",
       "      <td>NaN</td>\n",
       "      <td>18.443400</td>\n",
       "      <td>0.800440</td>\n",
       "      <td>65.841100</td>\n",
       "      <td>NaN</td>\n",
       "      <td>NaN</td>\n",
       "      <td>0.0</td>\n",
       "    </tr>\n",
       "    <tr>\n",
       "      <th>27105</th>\n",
       "      <td>2018-07-09 13:40:00</td>\n",
       "      <td>NaN</td>\n",
       "      <td>NaN</td>\n",
       "      <td>-1.544820</td>\n",
       "      <td>-1.853780</td>\n",
       "      <td>0.819548</td>\n",
       "      <td>NaN</td>\n",
       "      <td>NaN</td>\n",
       "      <td>0.0</td>\n",
       "    </tr>\n",
       "    <tr>\n",
       "      <th>42346</th>\n",
       "      <td>2018-10-24 08:14:00</td>\n",
       "      <td>NaN</td>\n",
       "      <td>NaN</td>\n",
       "      <td>66.959200</td>\n",
       "      <td>-0.002281</td>\n",
       "      <td>31.577000</td>\n",
       "      <td>NaN</td>\n",
       "      <td>NaN</td>\n",
       "      <td>0.0</td>\n",
       "    </tr>\n",
       "  </tbody>\n",
       "</table>\n",
       "<p>3253 rows × 9 columns</p>\n",
       "</div>"
      ],
      "text/plain": [
       "                     Date  Wsp_44m  Wdir_41m      ActPow     RePow  \\\n",
       "19015 2018-05-14 09:20:00      NaN       NaN   -1.096810 -1.285870   \n",
       "19016 2018-05-14 09:30:00      NaN       NaN   -1.030800 -0.895310   \n",
       "19017 2018-05-14 09:40:00      NaN       NaN   -0.903863 -0.680247   \n",
       "19018 2018-05-14 09:50:00      NaN       NaN   -0.823533 -0.763457   \n",
       "19019 2018-05-14 10:00:00      NaN       NaN   -0.975510 -0.802763   \n",
       "...                   ...      ...       ...         ...       ...   \n",
       "27102 2018-07-09 13:00:00      NaN       NaN  201.837000 -0.001510   \n",
       "27103 2018-07-09 13:20:00      NaN       NaN  220.969000 -0.006363   \n",
       "27104 2018-07-09 13:30:00      NaN       NaN   18.443400  0.800440   \n",
       "27105 2018-07-09 13:40:00      NaN       NaN   -1.544820 -1.853780   \n",
       "42346 2018-10-24 08:14:00      NaN       NaN   66.959200 -0.002281   \n",
       "\n",
       "       ActPow_std  Wsp_44m_std  Wdir_41m_std  stability  \n",
       "19015    1.004990          NaN           NaN        0.0  \n",
       "19016    0.982677          NaN           NaN        0.0  \n",
       "19017    0.716444          NaN           NaN        0.0  \n",
       "19018    0.782019          NaN           NaN        0.0  \n",
       "19019    0.841965          NaN           NaN        0.0  \n",
       "...           ...          ...           ...        ...  \n",
       "27102   67.718100          NaN           NaN        0.0  \n",
       "27103   51.026400          NaN           NaN        0.0  \n",
       "27104   65.841100          NaN           NaN        0.0  \n",
       "27105    0.819548          NaN           NaN        0.0  \n",
       "42346   31.577000          NaN           NaN        0.0  \n",
       "\n",
       "[3253 rows x 9 columns]"
      ]
     },
     "execution_count": 10,
     "metadata": {},
     "output_type": "execute_result"
    }
   ],
   "source": [
    "df[df['Wsp_44m'].isna()]"
   ]
  },
  {
   "cell_type": "code",
   "execution_count": 11,
   "metadata": {},
   "outputs": [
    {
     "data": {
      "text/html": [
       "<div>\n",
       "<style scoped>\n",
       "    .dataframe tbody tr th:only-of-type {\n",
       "        vertical-align: middle;\n",
       "    }\n",
       "\n",
       "    .dataframe tbody tr th {\n",
       "        vertical-align: top;\n",
       "    }\n",
       "\n",
       "    .dataframe thead th {\n",
       "        text-align: right;\n",
       "    }\n",
       "</style>\n",
       "<table border=\"1\" class=\"dataframe\">\n",
       "  <thead>\n",
       "    <tr style=\"text-align: right;\">\n",
       "      <th></th>\n",
       "      <th>Date</th>\n",
       "      <th>Wsp_44m</th>\n",
       "      <th>Wdir_41m</th>\n",
       "      <th>ActPow</th>\n",
       "      <th>RePow</th>\n",
       "      <th>ActPow_std</th>\n",
       "      <th>Wsp_44m_std</th>\n",
       "      <th>Wdir_41m_std</th>\n",
       "      <th>stability</th>\n",
       "    </tr>\n",
       "  </thead>\n",
       "  <tbody>\n",
       "    <tr>\n",
       "      <th>395</th>\n",
       "      <td>2018-01-03 18:30:00</td>\n",
       "      <td>4.11082</td>\n",
       "      <td>166.586</td>\n",
       "      <td>NaN</td>\n",
       "      <td>NaN</td>\n",
       "      <td>NaN</td>\n",
       "      <td>0.877951</td>\n",
       "      <td>9.456860</td>\n",
       "      <td>0.0</td>\n",
       "    </tr>\n",
       "    <tr>\n",
       "      <th>3413</th>\n",
       "      <td>2018-01-23 23:30:00</td>\n",
       "      <td>11.35410</td>\n",
       "      <td>196.849</td>\n",
       "      <td>NaN</td>\n",
       "      <td>NaN</td>\n",
       "      <td>NaN</td>\n",
       "      <td>0.451371</td>\n",
       "      <td>2.592660</td>\n",
       "      <td>1.0</td>\n",
       "    </tr>\n",
       "    <tr>\n",
       "      <th>3414</th>\n",
       "      <td>2018-01-23 23:40:00</td>\n",
       "      <td>11.43910</td>\n",
       "      <td>197.141</td>\n",
       "      <td>NaN</td>\n",
       "      <td>NaN</td>\n",
       "      <td>NaN</td>\n",
       "      <td>0.000005</td>\n",
       "      <td>0.000000</td>\n",
       "      <td>1.0</td>\n",
       "    </tr>\n",
       "    <tr>\n",
       "      <th>3415</th>\n",
       "      <td>2018-01-23 23:50:00</td>\n",
       "      <td>11.43910</td>\n",
       "      <td>197.141</td>\n",
       "      <td>NaN</td>\n",
       "      <td>NaN</td>\n",
       "      <td>NaN</td>\n",
       "      <td>0.000005</td>\n",
       "      <td>0.000000</td>\n",
       "      <td>1.0</td>\n",
       "    </tr>\n",
       "    <tr>\n",
       "      <th>3416</th>\n",
       "      <td>2018-01-24 00:00:00</td>\n",
       "      <td>11.43910</td>\n",
       "      <td>197.141</td>\n",
       "      <td>NaN</td>\n",
       "      <td>NaN</td>\n",
       "      <td>NaN</td>\n",
       "      <td>0.000005</td>\n",
       "      <td>0.000000</td>\n",
       "      <td>1.0</td>\n",
       "    </tr>\n",
       "    <tr>\n",
       "      <th>...</th>\n",
       "      <td>...</td>\n",
       "      <td>...</td>\n",
       "      <td>...</td>\n",
       "      <td>...</td>\n",
       "      <td>...</td>\n",
       "      <td>...</td>\n",
       "      <td>...</td>\n",
       "      <td>...</td>\n",
       "      <td>...</td>\n",
       "    </tr>\n",
       "    <tr>\n",
       "      <th>42393</th>\n",
       "      <td>2018-10-24 07:30:00</td>\n",
       "      <td>14.33320</td>\n",
       "      <td>332.584</td>\n",
       "      <td>NaN</td>\n",
       "      <td>NaN</td>\n",
       "      <td>NaN</td>\n",
       "      <td>0.000009</td>\n",
       "      <td>0.000058</td>\n",
       "      <td>1.0</td>\n",
       "    </tr>\n",
       "    <tr>\n",
       "      <th>42394</th>\n",
       "      <td>2018-10-24 07:40:00</td>\n",
       "      <td>14.33320</td>\n",
       "      <td>332.584</td>\n",
       "      <td>NaN</td>\n",
       "      <td>NaN</td>\n",
       "      <td>NaN</td>\n",
       "      <td>0.000009</td>\n",
       "      <td>0.000058</td>\n",
       "      <td>1.0</td>\n",
       "    </tr>\n",
       "    <tr>\n",
       "      <th>42395</th>\n",
       "      <td>2018-10-24 07:50:00</td>\n",
       "      <td>14.33320</td>\n",
       "      <td>332.584</td>\n",
       "      <td>NaN</td>\n",
       "      <td>NaN</td>\n",
       "      <td>NaN</td>\n",
       "      <td>0.000009</td>\n",
       "      <td>0.000058</td>\n",
       "      <td>1.0</td>\n",
       "    </tr>\n",
       "    <tr>\n",
       "      <th>42396</th>\n",
       "      <td>2018-10-24 08:00:00</td>\n",
       "      <td>14.33320</td>\n",
       "      <td>332.584</td>\n",
       "      <td>NaN</td>\n",
       "      <td>NaN</td>\n",
       "      <td>NaN</td>\n",
       "      <td>0.000009</td>\n",
       "      <td>0.000058</td>\n",
       "      <td>1.0</td>\n",
       "    </tr>\n",
       "    <tr>\n",
       "      <th>42397</th>\n",
       "      <td>2018-10-24 08:10:00</td>\n",
       "      <td>5.38942</td>\n",
       "      <td>4.413</td>\n",
       "      <td>NaN</td>\n",
       "      <td>NaN</td>\n",
       "      <td>NaN</td>\n",
       "      <td>2.981610</td>\n",
       "      <td>13.395500</td>\n",
       "      <td>0.0</td>\n",
       "    </tr>\n",
       "  </tbody>\n",
       "</table>\n",
       "<p>138 rows × 9 columns</p>\n",
       "</div>"
      ],
      "text/plain": [
       "                     Date   Wsp_44m  Wdir_41m  ActPow  RePow  ActPow_std  \\\n",
       "395   2018-01-03 18:30:00   4.11082   166.586     NaN    NaN         NaN   \n",
       "3413  2018-01-23 23:30:00  11.35410   196.849     NaN    NaN         NaN   \n",
       "3414  2018-01-23 23:40:00  11.43910   197.141     NaN    NaN         NaN   \n",
       "3415  2018-01-23 23:50:00  11.43910   197.141     NaN    NaN         NaN   \n",
       "3416  2018-01-24 00:00:00  11.43910   197.141     NaN    NaN         NaN   \n",
       "...                   ...       ...       ...     ...    ...         ...   \n",
       "42393 2018-10-24 07:30:00  14.33320   332.584     NaN    NaN         NaN   \n",
       "42394 2018-10-24 07:40:00  14.33320   332.584     NaN    NaN         NaN   \n",
       "42395 2018-10-24 07:50:00  14.33320   332.584     NaN    NaN         NaN   \n",
       "42396 2018-10-24 08:00:00  14.33320   332.584     NaN    NaN         NaN   \n",
       "42397 2018-10-24 08:10:00   5.38942     4.413     NaN    NaN         NaN   \n",
       "\n",
       "       Wsp_44m_std  Wdir_41m_std  stability  \n",
       "395       0.877951      9.456860        0.0  \n",
       "3413      0.451371      2.592660        1.0  \n",
       "3414      0.000005      0.000000        1.0  \n",
       "3415      0.000005      0.000000        1.0  \n",
       "3416      0.000005      0.000000        1.0  \n",
       "...            ...           ...        ...  \n",
       "42393     0.000009      0.000058        1.0  \n",
       "42394     0.000009      0.000058        1.0  \n",
       "42395     0.000009      0.000058        1.0  \n",
       "42396     0.000009      0.000058        1.0  \n",
       "42397     2.981610     13.395500        0.0  \n",
       "\n",
       "[138 rows x 9 columns]"
      ]
     },
     "execution_count": 11,
     "metadata": {},
     "output_type": "execute_result"
    }
   ],
   "source": [
    "df[df['ActPow'].isna()]"
   ]
  },
  {
   "cell_type": "markdown",
   "metadata": {},
   "source": [
    "Sí, hay muchos NaN en el conjunto de datos. ¿Cómo tratarlos? Lo ideal sería tratar cada variable por separado de la forma más significativa.\n",
    "Recordemos qué estrategias podemos seguir:\n",
    "* Reemplazar NaN por valores previos, posteriores o por una constante.\n",
    "* Interpolar el valor.\n",
    "* Eliminar la fila."
   ]
  },
  {
   "cell_type": "code",
   "execution_count": 12,
   "metadata": {},
   "outputs": [],
   "source": [
    "# Opción 1: Forward-fill\n",
    "df = df.fillna(method ='ffill')\n",
    "# Opción 2: Eliminar la fila\n",
    "df_drop = df.dropna()"
   ]
  },
  {
   "cell_type": "markdown",
   "metadata": {},
   "source": [
    "### 2.4. Análisis Exploratorio de Datos (EDA)"
   ]
  },
  {
   "cell_type": "markdown",
   "metadata": {},
   "source": [
    "Primero vamos a trazar un resumen del conjunto de datos analizado"
   ]
  },
  {
   "cell_type": "code",
   "execution_count": 13,
   "metadata": {},
   "outputs": [
    {
     "name": "stdout",
     "output_type": "stream",
     "text": [
      "<class 'pandas.core.frame.DataFrame'>\n",
      "RangeIndex: 52241 entries, 0 to 52240\n",
      "Data columns (total 9 columns):\n",
      " #   Column        Non-Null Count  Dtype         \n",
      "---  ------        --------------  -----         \n",
      " 0   Date          52241 non-null  datetime64[ns]\n",
      " 1   Wsp_44m       52241 non-null  float64       \n",
      " 2   Wdir_41m      52241 non-null  float64       \n",
      " 3   ActPow        52241 non-null  float64       \n",
      " 4   RePow         52241 non-null  float64       \n",
      " 5   ActPow_std    52241 non-null  float64       \n",
      " 6   Wsp_44m_std   52241 non-null  float64       \n",
      " 7   Wdir_41m_std  52241 non-null  float64       \n",
      " 8   stability     52241 non-null  float64       \n",
      "dtypes: datetime64[ns](1), float64(8)\n",
      "memory usage: 3.6 MB\n"
     ]
    }
   ],
   "source": [
    "df.info()"
   ]
  },
  {
   "cell_type": "markdown",
   "metadata": {},
   "source": [
    "Breve resumen de magnitudes estadísticas. Aquí se resumen las medidas de tendencia central de cada variable"
   ]
  },
  {
   "cell_type": "code",
   "execution_count": 14,
   "metadata": {},
   "outputs": [
    {
     "data": {
      "text/html": [
       "<div>\n",
       "<style scoped>\n",
       "    .dataframe tbody tr th:only-of-type {\n",
       "        vertical-align: middle;\n",
       "    }\n",
       "\n",
       "    .dataframe tbody tr th {\n",
       "        vertical-align: top;\n",
       "    }\n",
       "\n",
       "    .dataframe thead th {\n",
       "        text-align: right;\n",
       "    }\n",
       "</style>\n",
       "<table border=\"1\" class=\"dataframe\">\n",
       "  <thead>\n",
       "    <tr style=\"text-align: right;\">\n",
       "      <th></th>\n",
       "      <th>Wsp_44m</th>\n",
       "      <th>Wdir_41m</th>\n",
       "      <th>ActPow</th>\n",
       "      <th>RePow</th>\n",
       "      <th>ActPow_std</th>\n",
       "      <th>Wsp_44m_std</th>\n",
       "      <th>Wdir_41m_std</th>\n",
       "      <th>stability</th>\n",
       "    </tr>\n",
       "  </thead>\n",
       "  <tbody>\n",
       "    <tr>\n",
       "      <th>count</th>\n",
       "      <td>52241.000000</td>\n",
       "      <td>52241.000000</td>\n",
       "      <td>52241.000000</td>\n",
       "      <td>52241.000000</td>\n",
       "      <td>52241.000000</td>\n",
       "      <td>52241.000000</td>\n",
       "      <td>52241.000000</td>\n",
       "      <td>52241.000000</td>\n",
       "    </tr>\n",
       "    <tr>\n",
       "      <th>mean</th>\n",
       "      <td>5.450313</td>\n",
       "      <td>190.784254</td>\n",
       "      <td>138.852585</td>\n",
       "      <td>-0.070451</td>\n",
       "      <td>36.713619</td>\n",
       "      <td>0.805243</td>\n",
       "      <td>8.671642</td>\n",
       "      <td>0.513677</td>\n",
       "    </tr>\n",
       "    <tr>\n",
       "      <th>std</th>\n",
       "      <td>2.786539</td>\n",
       "      <td>88.489800</td>\n",
       "      <td>203.062717</td>\n",
       "      <td>0.634160</td>\n",
       "      <td>46.055606</td>\n",
       "      <td>0.508874</td>\n",
       "      <td>4.941516</td>\n",
       "      <td>0.499818</td>\n",
       "    </tr>\n",
       "    <tr>\n",
       "      <th>min</th>\n",
       "      <td>0.503833</td>\n",
       "      <td>0.001286</td>\n",
       "      <td>-27.466700</td>\n",
       "      <td>-5.744410</td>\n",
       "      <td>0.000000</td>\n",
       "      <td>0.000000</td>\n",
       "      <td>0.000000</td>\n",
       "      <td>0.000000</td>\n",
       "    </tr>\n",
       "    <tr>\n",
       "      <th>25%</th>\n",
       "      <td>3.445130</td>\n",
       "      <td>117.112000</td>\n",
       "      <td>-0.400000</td>\n",
       "      <td>-0.002690</td>\n",
       "      <td>0.703166</td>\n",
       "      <td>0.462856</td>\n",
       "      <td>5.529830</td>\n",
       "      <td>0.000000</td>\n",
       "    </tr>\n",
       "    <tr>\n",
       "      <th>50%</th>\n",
       "      <td>5.018790</td>\n",
       "      <td>196.838000</td>\n",
       "      <td>57.503200</td>\n",
       "      <td>-0.000530</td>\n",
       "      <td>21.325500</td>\n",
       "      <td>0.684365</td>\n",
       "      <td>7.466220</td>\n",
       "      <td>1.000000</td>\n",
       "    </tr>\n",
       "    <tr>\n",
       "      <th>75%</th>\n",
       "      <td>6.901100</td>\n",
       "      <td>262.215000</td>\n",
       "      <td>174.700000</td>\n",
       "      <td>0.002423</td>\n",
       "      <td>51.911600</td>\n",
       "      <td>1.060430</td>\n",
       "      <td>10.154600</td>\n",
       "      <td>1.000000</td>\n",
       "    </tr>\n",
       "    <tr>\n",
       "      <th>max</th>\n",
       "      <td>19.720000</td>\n",
       "      <td>359.997000</td>\n",
       "      <td>867.900000</td>\n",
       "      <td>11.800000</td>\n",
       "      <td>408.458000</td>\n",
       "      <td>4.028130</td>\n",
       "      <td>57.136100</td>\n",
       "      <td>1.000000</td>\n",
       "    </tr>\n",
       "  </tbody>\n",
       "</table>\n",
       "</div>"
      ],
      "text/plain": [
       "            Wsp_44m      Wdir_41m        ActPow         RePow    ActPow_std  \\\n",
       "count  52241.000000  52241.000000  52241.000000  52241.000000  52241.000000   \n",
       "mean       5.450313    190.784254    138.852585     -0.070451     36.713619   \n",
       "std        2.786539     88.489800    203.062717      0.634160     46.055606   \n",
       "min        0.503833      0.001286    -27.466700     -5.744410      0.000000   \n",
       "25%        3.445130    117.112000     -0.400000     -0.002690      0.703166   \n",
       "50%        5.018790    196.838000     57.503200     -0.000530     21.325500   \n",
       "75%        6.901100    262.215000    174.700000      0.002423     51.911600   \n",
       "max       19.720000    359.997000    867.900000     11.800000    408.458000   \n",
       "\n",
       "        Wsp_44m_std  Wdir_41m_std     stability  \n",
       "count  52241.000000  52241.000000  52241.000000  \n",
       "mean       0.805243      8.671642      0.513677  \n",
       "std        0.508874      4.941516      0.499818  \n",
       "min        0.000000      0.000000      0.000000  \n",
       "25%        0.462856      5.529830      0.000000  \n",
       "50%        0.684365      7.466220      1.000000  \n",
       "75%        1.060430     10.154600      1.000000  \n",
       "max        4.028130     57.136100      1.000000  "
      ]
     },
     "execution_count": 14,
     "metadata": {},
     "output_type": "execute_result"
    }
   ],
   "source": [
    "df.describe()"
   ]
  },
  {
   "cell_type": "markdown",
   "metadata": {},
   "source": [
    "Una herramienta útil para realizar un rápido análisis exploratorio de datos es el **pairplot**. Aquí está disponible con la biblioteca *seaborn*. Este comando crea un gráfico múltiple con cada característica comparada con todas las demás. En el estilo matricial en el que se presenta el gráfico, la diagonal *(i,i)* se rellena con la función de densidad de probabilidad de la respectiva variable *i*, resaltando su distribución."
   ]
  },
  {
   "cell_type": "markdown",
   "metadata": {},
   "source": [
    "## 3. Creación de gráficos usando seaborn"
   ]
  },
  {
   "cell_type": "code",
   "execution_count": 15,
   "metadata": {},
   "outputs": [],
   "source": [
    "import seaborn as sns\n",
    "sns.set()"
   ]
  },
  {
   "cell_type": "code",
   "execution_count": 16,
   "metadata": {},
   "outputs": [
    {
     "data": {
      "text/html": [
       "<div>\n",
       "<style scoped>\n",
       "    .dataframe tbody tr th:only-of-type {\n",
       "        vertical-align: middle;\n",
       "    }\n",
       "\n",
       "    .dataframe tbody tr th {\n",
       "        vertical-align: top;\n",
       "    }\n",
       "\n",
       "    .dataframe thead th {\n",
       "        text-align: right;\n",
       "    }\n",
       "</style>\n",
       "<table border=\"1\" class=\"dataframe\">\n",
       "  <thead>\n",
       "    <tr style=\"text-align: right;\">\n",
       "      <th></th>\n",
       "      <th>Wsp_44m</th>\n",
       "      <th>Wdir_41m</th>\n",
       "      <th>ActPow</th>\n",
       "      <th>RePow</th>\n",
       "      <th>ActPow_std</th>\n",
       "      <th>Wsp_44m_std</th>\n",
       "      <th>Wdir_41m_std</th>\n",
       "      <th>stability</th>\n",
       "    </tr>\n",
       "  </thead>\n",
       "  <tbody>\n",
       "    <tr>\n",
       "      <th>0</th>\n",
       "      <td>4.71803</td>\n",
       "      <td>200.743</td>\n",
       "      <td>64.6673</td>\n",
       "      <td>0.000860</td>\n",
       "      <td>33.4251</td>\n",
       "      <td>0.566131</td>\n",
       "      <td>6.45730</td>\n",
       "      <td>1.0</td>\n",
       "    </tr>\n",
       "    <tr>\n",
       "      <th>1</th>\n",
       "      <td>5.44100</td>\n",
       "      <td>201.768</td>\n",
       "      <td>70.8152</td>\n",
       "      <td>-0.000657</td>\n",
       "      <td>26.3829</td>\n",
       "      <td>0.765691</td>\n",
       "      <td>6.66940</td>\n",
       "      <td>1.0</td>\n",
       "    </tr>\n",
       "    <tr>\n",
       "      <th>2</th>\n",
       "      <td>5.32178</td>\n",
       "      <td>197.962</td>\n",
       "      <td>80.8037</td>\n",
       "      <td>-0.000617</td>\n",
       "      <td>30.2002</td>\n",
       "      <td>0.603442</td>\n",
       "      <td>6.99113</td>\n",
       "      <td>1.0</td>\n",
       "    </tr>\n",
       "    <tr>\n",
       "      <th>3</th>\n",
       "      <td>5.95325</td>\n",
       "      <td>204.606</td>\n",
       "      <td>86.1123</td>\n",
       "      <td>-0.002370</td>\n",
       "      <td>43.1192</td>\n",
       "      <td>0.872915</td>\n",
       "      <td>5.47062</td>\n",
       "      <td>1.0</td>\n",
       "    </tr>\n",
       "    <tr>\n",
       "      <th>4</th>\n",
       "      <td>6.17765</td>\n",
       "      <td>204.398</td>\n",
       "      <td>110.8570</td>\n",
       "      <td>0.001033</td>\n",
       "      <td>29.9507</td>\n",
       "      <td>0.550160</td>\n",
       "      <td>4.93713</td>\n",
       "      <td>1.0</td>\n",
       "    </tr>\n",
       "  </tbody>\n",
       "</table>\n",
       "</div>"
      ],
      "text/plain": [
       "   Wsp_44m  Wdir_41m    ActPow     RePow  ActPow_std  Wsp_44m_std  \\\n",
       "0  4.71803   200.743   64.6673  0.000860     33.4251     0.566131   \n",
       "1  5.44100   201.768   70.8152 -0.000657     26.3829     0.765691   \n",
       "2  5.32178   197.962   80.8037 -0.000617     30.2002     0.603442   \n",
       "3  5.95325   204.606   86.1123 -0.002370     43.1192     0.872915   \n",
       "4  6.17765   204.398  110.8570  0.001033     29.9507     0.550160   \n",
       "\n",
       "   Wdir_41m_std  stability  \n",
       "0       6.45730        1.0  \n",
       "1       6.66940        1.0  \n",
       "2       6.99113        1.0  \n",
       "3       5.47062        1.0  \n",
       "4       4.93713        1.0  "
      ]
     },
     "execution_count": 16,
     "metadata": {},
     "output_type": "execute_result"
    }
   ],
   "source": [
    "indp_vars = df.drop(columns=['Date'])\n",
    "indp_vars.head()"
   ]
  },
  {
   "cell_type": "code",
   "execution_count": null,
   "metadata": {
    "scrolled": true
   },
   "outputs": [
    {
     "data": {
      "text/plain": [
       "<seaborn.axisgrid.PairGrid at 0x17f09b1f4f0>"
      ]
     },
     "execution_count": 17,
     "metadata": {},
     "output_type": "execute_result"
    }
   ],
   "source": [
    "sns.pairplot(indp_vars)"
   ]
  },
  {
   "cell_type": "markdown",
   "metadata": {},
   "source": [
    "¿Hay algo que podamos concluir de esta primera visión?"
   ]
  },
  {
   "cell_type": "markdown",
   "metadata": {},
   "source": [
    "## 4. Creación de gráficos con matplotlib"
   ]
  },
  {
   "cell_type": "markdown",
   "metadata": {},
   "source": [
    "#### 2.3.1 Análisis univariante"
   ]
  },
  {
   "cell_type": "markdown",
   "metadata": {},
   "source": [
    "El análisis univariante es la forma más sencilla de analizar datos. Sus datos sólo tienen una variable. No se ocupa de causas o relaciones y su principal objetivo es describir. Toma los datos, los resume y encuentra patrones en ellos.\n",
    "\n",
    "El análisis univariante es especialmente útil en el caso de variables categóricas. En nuestro caso, el conjunto de datos sólo contiene variables numéricas. Entre estas variables numéricas, casi todas son **datos de series temporales**, por lo tanto, con una dependencia temporal única."
   ]
  },
  {
   "cell_type": "code",
   "execution_count": null,
   "metadata": {},
   "outputs": [],
   "source": [
    "# Variable 'stability'\n",
    "count = df['stability'].value_counts()\n",
    "count"
   ]
  },
  {
   "cell_type": "markdown",
   "metadata": {},
   "source": [
    "¿Cuál es el mejor gráfico para representar la variable de estabilidad? Un **gráfico de barras** funcionaría."
   ]
  },
  {
   "cell_type": "code",
   "execution_count": null,
   "metadata": {},
   "outputs": [],
   "source": [
    "plt.figure()\n",
    "count.sort_index().plot(kind='bar')\n",
    "plt.title('Stability Status')\n",
    "plt.xlabel('status')\n",
    "plt.ylabel('N# of observation')\n",
    "plt.show()"
   ]
  },
  {
   "cell_type": "markdown",
   "metadata": {},
   "source": [
    "#### 2.3.2 Análisis bivariante"
   ]
  },
  {
   "cell_type": "markdown",
   "metadata": {},
   "source": [
    "El análisis bivariante es una de las formas más sencillas de análisis cuantitativo (estadístico). Consiste en el análisis de dos variables (a menudo denominadas X, Y), con el fin de determinar la relación empírica entre ellas. \n",
    "\n",
    "Está claro que, dado nuestro conjunto de datos, la primera variable dependiente Y a analizar sería la Fecha **(Date)**, y las otras variables indipendientes X serían las otras características.\n",
    "\n",
    "Elija las variables que desea representar gráficamente"
   ]
  },
  {
   "cell_type": "code",
   "execution_count": null,
   "metadata": {},
   "outputs": [],
   "source": [
    "df.head()"
   ]
  },
  {
   "cell_type": "markdown",
   "metadata": {},
   "source": [
    "Puedes empezar probando estos gráficos rápidos"
   ]
  },
  {
   "cell_type": "code",
   "execution_count": null,
   "metadata": {},
   "outputs": [],
   "source": [
    "plt.plot(df['ActPow'])\n",
    "plt.show()"
   ]
  },
  {
   "cell_type": "markdown",
   "metadata": {},
   "source": [
    "En caso de haber hecho 'dropna', puedes ver claramente los \"agujeros\" generados al eliminar los valores NaN"
   ]
  },
  {
   "cell_type": "code",
   "execution_count": null,
   "metadata": {},
   "outputs": [],
   "source": [
    "plt.plot(df['Wsp_44m'])\n",
    "plt.show()"
   ]
  },
  {
   "cell_type": "markdown",
   "metadata": {},
   "source": [
    "Para una mejor visualización, puedes mejorar tu código de trazado como en este ejemplo"
   ]
  },
  {
   "cell_type": "code",
   "execution_count": null,
   "metadata": {},
   "outputs": [],
   "source": [
    "x_position = [datetime.datetime(2018, 1, 3), datetime.datetime(2018, 1, 5)]"
   ]
  },
  {
   "cell_type": "code",
   "execution_count": null,
   "metadata": {},
   "outputs": [],
   "source": [
    "plt.style.use('ggplot')\n",
    "plt.figure(figsize=(10,5))\n",
    "plt.plot(df['Date'][0:6*24*7], df['ActPow'][0:6*24*7], linewidth=0.9, color= 'cornflowerblue')\n",
    "plt.title('Power Output for V52 Turbine (01/01-08/01)')\n",
    "plt.xlabel('Date')\n",
    "plt.ylabel('Power output (kW)')\n",
    "plt.legend(['V52 Power output'])\n",
    "plt.savefig('./images/V52_Plot.png', dpi=300)\n",
    "for xp in x_position:\n",
    "    plt.axvline(xp, color='olive')\n",
    "plt.show()"
   ]
  },
  {
   "cell_type": "markdown",
   "metadata": {},
   "source": [
    "Probemos diferentes tramas. Los comandos y las posibilidades son casi infinitas. ¡Echa un vistazo a https://www.python-graph-gallery.com/ para algunas sugerencias / inspiración sobre qué plot elegir y cómo generarlo en python! La herramienta es realmente útil y da ya códigos base que podéis usar.\n",
    "\n",
    "Aquí sigue, por ejemplo, un **gráfico de distribución** que básicamente es un **histograma** continuo de la variable y traza la función de densidad de probabilidad."
   ]
  },
  {
   "cell_type": "code",
   "execution_count": null,
   "metadata": {},
   "outputs": [],
   "source": [
    "# graficamos ambas distribuciones en la misma figura\n",
    "plt.figure(figsize=(10,5))\n",
    "plt.title('Comparison of probability distributions')\n",
    "fig = sns.kdeplot(df['Wsp_44m'], shade=True, color=\"r\", label=\"Wsp_44m\")\n",
    "fig = sns.kdeplot(df['Wsp_44m_std'], shade=True, color=\"b\", label=\"Wsp_44m_std\")\n",
    "plt.legend()\n",
    "plt.show()"
   ]
  },
  {
   "cell_type": "markdown",
   "metadata": {},
   "source": [
    "## 5. Visualización interactiva de datos: Plotly"
   ]
  },
  {
   "cell_type": "code",
   "execution_count": null,
   "metadata": {},
   "outputs": [],
   "source": [
    "# Para gráficos interactivos\n",
    "import plotly.offline as py\n",
    "from plotly import tools\n",
    "import plotly.graph_objs as go\n",
    "import warnings\n",
    "from ipywidgets import widgets\n",
    "from ipywidgets import interact\n",
    "\n",
    "# plotly settings to ignore warnings\n",
    "warnings.filterwarnings('ignore')\n",
    "py.init_notebook_mode(connected=True)"
   ]
  },
  {
   "cell_type": "markdown",
   "metadata": {},
   "source": [
    "Un gráfico se compone básicamente de 3 objetos: trazas (trace), diseño (layout) y la propia figura (figure). Las trazas son los temas/señales que se van a trazar. El diseño es el objeto que almacena los detalles y estilos de trazado. La figura es la envoltura que contiene todo. Veámoslo paso a paso."
   ]
  },
  {
   "cell_type": "code",
   "execution_count": null,
   "metadata": {},
   "outputs": [],
   "source": [
    "# crear trazas\n",
    "trace1 = go.Scatter(\n",
    "             x = df['Date'],\n",
    "             y = df['Wsp_44m'],\n",
    "             mode = 'lines',\n",
    "             name = 'Speed')\n",
    "\n",
    "trace2 = go.Scatter(\n",
    "            x = df['Date'],\n",
    "            y = df['Wdir_41m'],\n",
    "            mode = 'lines',\n",
    "            name = 'Direction')"
   ]
  },
  {
   "cell_type": "code",
   "execution_count": null,
   "metadata": {},
   "outputs": [],
   "source": [
    "# crear diseño\n",
    "layout = go.Layout(\n",
    "    title = \"Wind Information\",\n",
    "    xaxis = {'title' : \"Date\"},\n",
    "    yaxis = {'title' : \"Value\"})\n"
   ]
  },
  {
   "cell_type": "markdown",
   "metadata": {},
   "source": [
    "Tenga en cuenta que el objeto de diseño quiere `diccionarios` Python para almacenar los detalles"
   ]
  },
  {
   "cell_type": "code",
   "execution_count": null,
   "metadata": {},
   "outputs": [],
   "source": [
    "# crear figura\n",
    "fig = go.Figure(data=[trace1, trace2], layout=layout)\n",
    "# mostrar figura\n",
    "fig.show()"
   ]
  },
  {
   "cell_type": "markdown",
   "metadata": {},
   "source": [
    "También puede definir directamente la estructura gráfica que contiene los objetos. \n",
    "Tenga en cuenta que, para la representación, sólo se seleccionan los 7 primeros días."
   ]
  },
  {
   "cell_type": "code",
   "execution_count": null,
   "metadata": {},
   "outputs": [],
   "source": [
    "x_time = df['Date'][0:6*24*7]                       # cambiar numeros entre paréntesis para cambiar fechas\n",
    "y_data = df['ActPow'][0:6*24*7]                     \n",
    "\n",
    "fig = go.Figure(    # \"data\" es una lista que contiene los detalles de las trazas\n",
    "        data=[\n",
    "            # primera traza\n",
    "            go.Line(x=x_time,                          \n",
    "                    y=y_data, \n",
    "                    name=\"V52\")\n",
    "        # otras trazas si es necesario\n",
    "        ],\n",
    "        # diseño\n",
    "        layout=go.Layout(\n",
    "            title=dict(text='Weekly V52 Turbine Power Output'),\n",
    "            xaxis=dict(title='Date'),\n",
    "            yaxis=dict(title='Power Output [kW]')\n",
    "        )\n",
    "    )\n",
    "fig.show()"
   ]
  },
  {
   "cell_type": "markdown",
   "metadata": {},
   "source": [
    "Si desea guardarlo localmente, puede hacerlo en formato HTML (para abrirlo en su navegador)"
   ]
  },
  {
   "cell_type": "code",
   "execution_count": null,
   "metadata": {},
   "outputs": [],
   "source": [
    "fig.write_html(\".\\images\\ActPowVSDate_simple.html\")"
   ]
  },
  {
   "cell_type": "markdown",
   "metadata": {},
   "source": [
    "Si desea comparar más señales y mejorar la calidad de su gráfico puede utilizar el siguiente código.\n",
    "La librería plotly utiliza la estructura **figure** para contener los elementos del gráfico.\n",
    "La estructura puede contener **traces**, donde se contienen y añaden nuevos elementos al gráfico, y **layouts**, que contiene información sobre elementos descriptivos del gráfico.\n",
    "Veamos el siguiente ejemplo, en el que se compara la *potencia activa* con la *potencia reactiva* en el mismo gráfico.\n",
    "\n",
    "También puedes utilizar el método `add_trace` o `update_layout` para añadir esos objetos a un objeto `fig` ya creado. Es exactamente lo mismo que antes. Utiliza el método que prefieras."
   ]
  },
  {
   "cell_type": "code",
   "execution_count": null,
   "metadata": {
    "scrolled": false
   },
   "outputs": [],
   "source": [
    "# Creating figure with Plotly\n",
    "fig = go.Figure()\n",
    "\n",
    "# Adding first line for active power\n",
    "x_time = df['Date'][0:6*24*7]\n",
    "y_data1 = df['ActPow'][0:6*24*7]\n",
    "\n",
    "fig.add_trace(go.Line(x=x_time,\n",
    "                      y=y_data1, \n",
    "                      name=\"Active Power\"));\n",
    "\n",
    "# Adding second line for reactive power\n",
    "x_time = df['Date'][0:6*24*7]\n",
    "y_data2 = df['RePow'][0:6*24*7]\n",
    "\n",
    "fig.add_trace(go.Line(x=x_time,\n",
    "                      y=y_data2, \n",
    "                      name=\"Reactive Power\",\n",
    "                      # you can add some costumizations\n",
    "                      line = dict(color='lightcoral', width=2, dash='dot')));\n",
    "\n",
    "# Setting aesthetics for the plot such as Title and axes labels. \n",
    "fig.update_layout(\n",
    "    title=go.layout.Title(text=\"V52 Wind turbine\", xref=\"paper\", x=0, \n",
    "                          font=dict(family=\"Courier New, monospace\", size=18, color=\"#7f7f7f\")),\n",
    "    xaxis=go.layout.XAxis(title=go.layout.xaxis.Title(text=\"Date\", font=dict(family=\"Courier New, monospace\",\n",
    "                          size=18, color=\"#7f7f7f\"))),\n",
    "    yaxis=go.layout.YAxis(title=go.layout.yaxis.Title(text=\"Active Power [kW] Reactive Power [kvar]\",\n",
    "                          font=dict(family=\"Courier New, monospace\", size=18, color=\"#7f7f7f\"))))\n",
    "\n",
    "fig.show()\n",
    "fig.write_html(\".\\images\\ActPowVSRePow.html\")"
   ]
  },
  {
   "cell_type": "markdown",
   "metadata": {},
   "source": [
    "## 6. Narración de datos"
   ]
  },
  {
   "cell_type": "markdown",
   "metadata": {},
   "source": [
    "Mientras pruebas a trazar gráficos con el código anterior, no olvides utilizar tu propia creatividad y capacidad de análisis para entender qué pueden decirnos estos datos. Intenta buscar patrones/correlación entre las variables, ¡puede que haya algunos hechos/historias interesantes que contar! No olvides que el primer algoritmo potente de aprendizaje automático es la mente humana. Y la visualización de datos es la herramienta que lo hace posible."
   ]
  },
  {
   "cell_type": "markdown",
   "metadata": {},
   "source": [
    "# Parte 2: Análisis Económico de la Carga"
   ]
  },
  {
   "cell_type": "markdown",
   "metadata": {},
   "source": [
    "Obtenemos los precios a partir de la API de REE"
   ]
  },
  {
   "cell_type": "code",
   "execution_count": null,
   "metadata": {},
   "outputs": [],
   "source": [
    "# import requests library\n",
    "import requests\n",
    "import json"
   ]
  },
  {
   "cell_type": "code",
   "execution_count": null,
   "metadata": {},
   "outputs": [],
   "source": [
    "endpoint = 'https://apidatos.ree.es'\n",
    "get_archives = '/es/datos/mercados/precios-mercados-tiempo-real'\n",
    "headers = {'Accept': 'application/json',\n",
    "           'Content-Type': 'application/json',\n",
    "           'Host': 'apidatos.ree.es'}\n",
    "params = {'start_date': '2023-05-28T00:00', 'end_date': '2023-05-31T23:00', 'time_trunc':'hour'}"
   ]
  },
  {
   "cell_type": "code",
   "execution_count": null,
   "metadata": {},
   "outputs": [],
   "source": [
    "request = requests.get(endpoint+get_archives, headers=headers, params=params)"
   ]
  },
  {
   "cell_type": "code",
   "execution_count": null,
   "metadata": {},
   "outputs": [],
   "source": [
    "print(request)\n",
    "json = request.json()"
   ]
  },
  {
   "cell_type": "code",
   "execution_count": null,
   "metadata": {},
   "outputs": [],
   "source": [
    "PVPC = json['included'][0]\n",
    "values = PVPC['attributes']['values']\n",
    "df_REE = pd.DataFrame(values)\n",
    "df_REE"
   ]
  },
  {
   "cell_type": "code",
   "execution_count": null,
   "metadata": {},
   "outputs": [],
   "source": [
    "df_REE.dtypes"
   ]
  },
  {
   "cell_type": "code",
   "execution_count": null,
   "metadata": {},
   "outputs": [],
   "source": [
    "df_REE['datetime'] = pd.to_datetime(df_REE['datetime'])\n",
    "df_REE.head()"
   ]
  },
  {
   "cell_type": "code",
   "execution_count": null,
   "metadata": {},
   "outputs": [],
   "source": [
    "df_REE.rename(columns={'value': 'Precio_€/MWh', 'percentage': 'Porcentaje_Renovables'}, inplace=True)\n",
    "df_REE.head()"
   ]
  },
  {
   "cell_type": "code",
   "execution_count": null,
   "metadata": {},
   "outputs": [],
   "source": [
    "df_REE.dtypes"
   ]
  },
  {
   "cell_type": "code",
   "execution_count": null,
   "metadata": {},
   "outputs": [],
   "source": [
    "df_REE['hour'] = df_REE['datetime'].dt.hour\n",
    "df_REE.head()"
   ]
  },
  {
   "cell_type": "code",
   "execution_count": null,
   "metadata": {},
   "outputs": [],
   "source": [
    "df_REE['day'] = df_REE['datetime'].dt.day\n",
    "df_REE.head()"
   ]
  },
  {
   "cell_type": "code",
   "execution_count": null,
   "metadata": {},
   "outputs": [],
   "source": [
    "df_REE.drop(['datetime', 'Porcentaje_Renovables'], axis=1, inplace=True)\n",
    "df_REE.head()"
   ]
  },
  {
   "cell_type": "code",
   "execution_count": null,
   "metadata": {},
   "outputs": [],
   "source": [
    "df_carga = pd.read_csv('data/lavadora-algodon.csv', header=None)\n",
    "df_carga.columns = ['datetime', 'Irms_A', 'Prms_W']\n",
    "df_carga.head()"
   ]
  },
  {
   "cell_type": "code",
   "execution_count": null,
   "metadata": {},
   "outputs": [],
   "source": [
    "df_carga.dtypes"
   ]
  },
  {
   "cell_type": "code",
   "execution_count": null,
   "metadata": {},
   "outputs": [],
   "source": [
    "df_carga['datetime'] = pd.to_datetime(df_carga['datetime'])\n",
    "df_carga.dtypes"
   ]
  },
  {
   "cell_type": "code",
   "execution_count": null,
   "metadata": {},
   "outputs": [],
   "source": [
    "# Crear columnas 'hour' y 'day'\n",
    "\n",
    "df_carga.head()"
   ]
  },
  {
   "cell_type": "code",
   "execution_count": null,
   "metadata": {},
   "outputs": [],
   "source": [
    "# Cambiar valores negativos por 0\n"
   ]
  },
  {
   "cell_type": "code",
   "execution_count": null,
   "metadata": {},
   "outputs": [],
   "source": []
  },
  {
   "cell_type": "code",
   "execution_count": null,
   "metadata": {},
   "outputs": [],
   "source": [
    "# Calcular diferencia de tiempo entre el periodo actual y el siguiente\n"
   ]
  },
  {
   "cell_type": "code",
   "execution_count": null,
   "metadata": {},
   "outputs": [],
   "source": []
  },
  {
   "cell_type": "code",
   "execution_count": null,
   "metadata": {},
   "outputs": [],
   "source": [
    "# Calcular la energia consumida en cada periodo (en Wh o kWh)"
   ]
  },
  {
   "cell_type": "code",
   "execution_count": null,
   "metadata": {},
   "outputs": [],
   "source": [
    "# Calcular la energia consumida acumulada (en Wh o kWh)"
   ]
  },
  {
   "cell_type": "code",
   "execution_count": null,
   "metadata": {},
   "outputs": [],
   "source": [
    "# Merge de dataframes en 'hour' y 'day'\n"
   ]
  },
  {
   "cell_type": "code",
   "execution_count": null,
   "metadata": {},
   "outputs": [],
   "source": [
    "# Eliminar columnas irrelevantes\n"
   ]
  },
  {
   "cell_type": "code",
   "execution_count": null,
   "metadata": {},
   "outputs": [],
   "source": [
    "# Calculo costo de cada periodo\n"
   ]
  },
  {
   "cell_type": "code",
   "execution_count": null,
   "metadata": {},
   "outputs": [],
   "source": [
    "# Calculo costo acumulado\n"
   ]
  },
  {
   "cell_type": "markdown",
   "metadata": {},
   "source": [
    "# Parte 3: Web Dashboard App con Streamlit (Opcional)"
   ]
  },
  {
   "cell_type": "markdown",
   "metadata": {},
   "source": [
    "En esta parte de la clase vamos a llevar la visualización de datos al siguiente nivel. Últimamente han surgido muchos frameworks fáciles de usar para mejorar la visualización de datos, en particular ligados a lenguajes de programación de alto nivel y flexibles como Python. **Streamlit** es uno de ellos, diseñado específicamente con la idea de ser fácil de aprender. Streamlit es un framework de código abierto basado en python para desarrollar y desplegar cuadros de mando interactivos de ciencia de datos y modelos de aprendizaje automático.\n",
    "Con sólo unas pocas líneas de código es posible construir impresionantes cuadros de mando interactivos para la visualización de datos. \n",
    "\n",
    "https://streamlit.io/\n",
    "\n",
    "Se recomienda consultar la documentación para los principiantes que necesiten ayuda con la instalación. La documentación para empezar está disponible [aquí](https://docs.streamlit.io/library/get-started).\n",
    "\n",
    "Streamlit también ofrece un servicio de alojamiento gratuito para aplicaciones en su sitio web. ¡Se puede utilizar esto para desplegar (de forma gratuita) nuestras aplicaciones web para la visualización de datos y ser capaz de acceder a ellos en cualquier momento en línea!\n",
    "\n",
    "Requisitos previos para ejecutar esta parte del laboratorio:\n",
    "\n",
    "- Instalación de trabajo de **python (3.7 - 3.10)** en su máquina\n",
    "- Un entorno de desarrollo integrado (**IDE**) de su elección\n",
    "- Un repositorio personal **GitHub**.\n",
    "\n",
    "Ten en cuenta que los siguientes pasos se realizan *fuera* de este cuaderno jupyter ya que no implican ningún tipo de codificación. \n",
    "\n",
    "1) **Configurar un nuevo entorno virtual**. Es una buena práctica hacerlo cuando se inicia un nuevo proyecto. Puedes crearlo con **anaconda** o con el gestor de paquetes/entorno que estés utilizando.\n",
    "\n",
    "2) Instala el paquete **streamlit** en el entorno virtual recién creado.\n",
    "\n",
    "3) Instala también un par de paquetes más por comodidad, que necesitaremos para trabajar (*matplotlib, seaborn, plotly, numpy, pandas, plost etc*).\n",
    "\n",
    "4) Ir a la página web de streamlit y registrar un nuevo usuario.\n",
    "\n",
    "Ahora ya estamos listos para empezar a construir nuestra aplicación web con algo de código. Para ayudarte en esta etapa podría ser más rápido tomar una plantilla base de un dashboard web para entender mejor cómo se hace. Más adelante, lo personalizaremos para cargar nuestro propio flujo de datos. \n",
    "\n",
    "5) Ve a [este](https://github.com/andreabragantini/streamlit_test) repositorio de GitHub y haz **fork** en tu cuenta personal de GitHub. Tendrás una copia exacta del mismo.\n",
    "\n",
    "6) Ya puedes echar un vistazo al dashboard de la plantilla yendo a tu cuenta personal de streamlit y añadiendo una `Nueva App` apuntando directamente a tu repositorio personal de GitHub que acabas de hacer fork. ¡Verás la aplicación funcionando y desplegada en los servidores streamlit!\n",
    "\n",
    "Ahora vamos a proceder a echar un vistazo al código de la aplicación streamlit con el fin de crear nuestra propia aplicación web dashboard.\n",
    "\n",
    "6) **Clone** el repositorio en su máquina local y abra los archivos en el IDE de su elección.\n",
    "\n",
    "7) Realice sus propias modificaciones en el código y para ver los cambios inmediatamente, abra una **ventana de terminal**, vaya al directorio donde está almacenado su proyecto streamlit y ejecute `streamlit run your_script.py`. Tan pronto como ejecutes el script como se muestra arriba, un **servidor Streamlit local** se pondrá en marcha y tu aplicación se abrirá en una nueva pestaña de tu navegador web por defecto. La aplicación es tu lienzo, donde dibujarás gráficos, texto, widgets, tablas y mucho más.\n",
    "\n",
    "8) Cuando esté satisfecho con los cambios, sólo tiene que **commit y push** a su propio repositorio donde se almacena el código y el servidor web streamlit automáticamente **desplegará** el nuevo dashboard editado."
   ]
  }
 ],
 "metadata": {
  "kernelspec": {
   "display_name": "Python 3",
   "language": "python",
   "name": "python3"
  },
  "language_info": {
   "codemirror_mode": {
    "name": "ipython",
    "version": 3
   },
   "file_extension": ".py",
   "mimetype": "text/x-python",
   "name": "python",
   "nbconvert_exporter": "python",
   "pygments_lexer": "ipython3",
   "version": "3.8.8"
  }
 },
 "nbformat": 4,
 "nbformat_minor": 2
}
